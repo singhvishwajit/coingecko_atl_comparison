{
 "cells": [
  {
   "cell_type": "markdown",
   "id": "9fec30d2",
   "metadata": {},
   "source": [
    "# Percentage from ATL comparison\n",
    "\n",
    "In this exercise, we will fetch top 250 cryptocurrencies by market cap from www.coingecko.com and compare their percentage change from their all time low price. This comparison data is good for figuring out what might be a good price to invest in for these cryptocurrencies.\n",
    "\n",
    "# Library Imports\n",
    "\n",
    "First we will import the list of open source libraries that we will need for this exercise."
   ]
  },
  {
   "cell_type": "code",
   "execution_count": null,
   "id": "d351cc9a",
   "metadata": {},
   "outputs": [],
   "source": [
    "import warnings\n",
    "warnings.filterwarnings('ignore')\n",
    "import numpy as np\n",
    "import pandas as pd\n",
    "import requests\n",
    "import math\n",
    "import xlsxwriter"
   ]
  },
  {
   "cell_type": "markdown",
   "id": "88b8f75a",
   "metadata": {},
   "source": [
    "# Importing List of Top 250 cryptocurrencies\n",
    "\n",
    "Next, we will import the list of Top 250 cryptocurrencies as on https://www.coingecko.com/.\n",
    "\n",
    "The cryptocurrencies in this list may change over time so the ideal way to get the list of top 100 cryptocurrencies is to connect to the Coingecko API and get the real time data from their API database. The API documentation can be found here: https://www.coingecko.com/en/api/documentation.\n",
    "\n",
    "Since this is a one time exercise, we will be using the free API version, there is no need to get an API key now. However, if we need to access the database frequently and choose a paid plan, an API key will be required. We will be using the /coins/markets API end point to get the list of top 250 cryptocurrencies. The end point also includes other relevant data as well, such as, ticker, price, market capitalization, atl, ath, etc which we will need later on.\n",
    "\n",
    "Let's import the list to our Jupyter notebook using the following commands:"
   ]
  },
  {
   "cell_type": "code",
   "execution_count": null,
   "id": "dcb3ff08",
   "metadata": {},
   "outputs": [],
   "source": [
    "api_url = f\"https://api.coingecko.com/api/v3/coins/markets?vs_currency=usd&order=market_cap_desc&per_page=250&page=1&sparkline=false\"\n",
    "data = requests.get(api_url).json()\n",
    "print(data)"
   ]
  },
  {
   "cell_type": "markdown",
   "id": "ed3414ce",
   "metadata": {},
   "source": [
    "# Creating a Pandas DataFrame and parsing our API call\n",
    "\n",
    "Next we will create a pandas dataframe where we can store the above data. We will call our dataframe \"atl_dataframe\"."
   ]
  },
  {
   "cell_type": "code",
   "execution_count": null,
   "id": "96260f0b",
   "metadata": {},
   "outputs": [],
   "source": [
    "my_columns = ['Name', 'Ticker','Current Price', 'Market Capitalization', 'ATH', 'ATH Date', 'ATH Change %', 'ATL', 'ATL Date', 'ATL Change %']\n",
    "atl_dataframe = pd.DataFrame(columns = my_columns)\n",
    "atl_dataframe"
   ]
  },
  {
   "cell_type": "code",
   "execution_count": null,
   "id": "aeecf330",
   "metadata": {},
   "outputs": [],
   "source": [
    "for i in data:\n",
    "    name = i['name']\n",
    "    ticker = i['symbol']\n",
    "    price = i['current_price']\n",
    "    market_cap = i['market_cap']\n",
    "    ath = i['ath']\n",
    "    ath_date = i['ath_date']\n",
    "    ath_change = i['ath_change_percentage']\n",
    "    atl = i['atl']\n",
    "    atl_date = i['atl_date']\n",
    "    atl_change = i['atl_change_percentage']\n",
    "    atl_dataframe = atl_dataframe.append(\n",
    "    pd.Series(\n",
    "        [\n",
    "            name,\n",
    "            ticker,\n",
    "            price,\n",
    "            market_cap,\n",
    "            ath,\n",
    "            ath_date,\n",
    "            ath_change,\n",
    "            atl,\n",
    "            atl_date,\n",
    "            atl_change,\n",
    "            \n",
    "        ],\n",
    "            index = my_columns,\n",
    "    ),\n",
    "        ignore_index = True\n",
    ")\n",
    "atl_dataframe"
   ]
  },
  {
   "cell_type": "markdown",
   "id": "2db3ad7c",
   "metadata": {},
   "source": [
    "# Output the result in an Excel file\n",
    "\n",
    "Finally, we will output the above dataframe result in an excel file using xlsxwriter."
   ]
  },
  {
   "cell_type": "code",
   "execution_count": null,
   "id": "4fb21898",
   "metadata": {},
   "outputs": [],
   "source": [
    "writer = pd.ExcelWriter('atl_comparison.xlsx', engine='xlsxwriter')\n",
    "atl_dataframe.to_excel(writer, sheet_name='ATL Comparison', index = False)"
   ]
  },
  {
   "cell_type": "code",
   "execution_count": null,
   "id": "6b61f95d",
   "metadata": {},
   "outputs": [],
   "source": [
    "background_color = '#0a0a23'\n",
    "font_color = '#ffffff'\n",
    "\n",
    "string_template = writer.book.add_format(\n",
    "        {\n",
    "            'font_color': font_color,\n",
    "            'bg_color': background_color,\n",
    "            'border': 1\n",
    "        }\n",
    "    )\n",
    "\n",
    "dollar_template = writer.book.add_format(\n",
    "        {\n",
    "            'num_format':'$0.00',\n",
    "            'font_color': font_color,\n",
    "            'bg_color': background_color,\n",
    "            'border': 1\n",
    "        }\n",
    "    )\n",
    "\n",
    "integer_template = writer.book.add_format(\n",
    "        {\n",
    "            'num_format':'0',\n",
    "            'font_color': font_color,\n",
    "            'bg_color': background_color,\n",
    "            'border': 1\n",
    "        }\n",
    "    )\n",
    "\n",
    "float_template = writer.book.add_format(\n",
    "        {\n",
    "            'num_format':'0.00',\n",
    "            'font_color': font_color,\n",
    "            'bg_color': background_color,\n",
    "            'border': 1\n",
    "        }\n",
    "    )\n",
    "\n",
    "percent_template = writer.book.add_format(\n",
    "        {\n",
    "            'num_format':'0.00',\n",
    "            'font_color': font_color,\n",
    "            'bg_color': background_color,\n",
    "            'border': 1\n",
    "        }\n",
    "    )"
   ]
  },
  {
   "cell_type": "code",
   "execution_count": null,
   "id": "09036189",
   "metadata": {},
   "outputs": [],
   "source": [
    "column_formats = { \n",
    "                    'A': ['Name', string_template],\n",
    "                    'B': ['Ticker', string_template],\n",
    "                    'C': ['Current Price', dollar_template],\n",
    "                    'D': ['Market Capitalization', dollar_template],\n",
    "                    'E': ['ATH', dollar_template],\n",
    "                    'F': ['ATH Date', string_template],\n",
    "                    'G': ['ATH Change %', percent_template],\n",
    "                    'H': ['ATL', dollar_template],\n",
    "                    'I': ['ATL Date', string_template],\n",
    "                    'J': ['ATL Change %', percent_template]\n",
    "                    }\n",
    "\n",
    "for column in column_formats.keys():\n",
    "    writer.sheets['ATL Comparison'].set_column(f'{column}:{column}', 20, column_formats[column][1])\n",
    "    writer.sheets['ATL Comparison'].write(f'{column}1', column_formats[column][0], string_template)"
   ]
  },
  {
   "cell_type": "code",
   "execution_count": null,
   "id": "3ae61af8",
   "metadata": {},
   "outputs": [],
   "source": [
    "writer.save()"
   ]
  },
  {
   "cell_type": "code",
   "execution_count": null,
   "id": "35de917f",
   "metadata": {},
   "outputs": [],
   "source": []
  }
 ],
 "metadata": {
  "kernelspec": {
   "display_name": "Python 3 (ipykernel)",
   "language": "python",
   "name": "python3"
  },
  "language_info": {
   "codemirror_mode": {
    "name": "ipython",
    "version": 3
   },
   "file_extension": ".py",
   "mimetype": "text/x-python",
   "name": "python",
   "nbconvert_exporter": "python",
   "pygments_lexer": "ipython3",
   "version": "3.10.1"
  }
 },
 "nbformat": 4,
 "nbformat_minor": 5
}
